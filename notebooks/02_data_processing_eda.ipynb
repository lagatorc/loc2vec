{
 "cells": [
  {
   "cell_type": "markdown",
   "id": "urban-martial",
   "metadata": {},
   "source": [
    "- Batch the dataframe by a few thousand and write tensors to a directory\n",
    "- Use that directory to train the model, Pytorch dataset can data file names as input"
   ]
  },
  {
   "cell_type": "code",
   "execution_count": 110,
   "id": "collected-indie",
   "metadata": {},
   "outputs": [],
   "source": [
    "import pandas as pd\n",
    "import ast\n",
    "import h3\n",
    "import pickle\n",
    "import numpy as np\n",
    "import torch\n",
    "import math\n",
    "import random\n",
    "import time\n",
    "import multiprocessing as mp\n",
    "import itertools"
   ]
  },
  {
   "cell_type": "code",
   "execution_count": null,
   "id": "prostate-jumping",
   "metadata": {},
   "outputs": [],
   "source": [
    "window_size = 5\n",
    "negative_samples = 3"
   ]
  },
  {
   "cell_type": "code",
   "execution_count": 111,
   "id": "accurate-attention",
   "metadata": {},
   "outputs": [],
   "source": [
    "data = pd.read_csv(\"../data/original_data.csv\")"
   ]
  },
  {
   "cell_type": "code",
   "execution_count": 112,
   "id": "helpful-hawaii",
   "metadata": {},
   "outputs": [],
   "source": [
    "#data = data.sample(300000, random_state=123).reset_index(drop=True)\n",
    "data = data.reset_index(drop=True)"
   ]
  },
  {
   "cell_type": "code",
   "execution_count": 113,
   "id": "simplified-statistics",
   "metadata": {},
   "outputs": [
    {
     "data": {
      "text/html": [
       "<div>\n",
       "<style scoped>\n",
       "    .dataframe tbody tr th:only-of-type {\n",
       "        vertical-align: middle;\n",
       "    }\n",
       "\n",
       "    .dataframe tbody tr th {\n",
       "        vertical-align: top;\n",
       "    }\n",
       "\n",
       "    .dataframe thead th {\n",
       "        text-align: right;\n",
       "    }\n",
       "</style>\n",
       "<table border=\"1\" class=\"dataframe\">\n",
       "  <thead>\n",
       "    <tr style=\"text-align: right;\">\n",
       "      <th></th>\n",
       "      <th>TRIP_ID</th>\n",
       "      <th>POLYLINE</th>\n",
       "    </tr>\n",
       "  </thead>\n",
       "  <tbody>\n",
       "    <tr>\n",
       "      <th>0</th>\n",
       "      <td>1372636858620000589</td>\n",
       "      <td>[[-8.618643,41.141412],[-8.618499,41.141376],[...</td>\n",
       "    </tr>\n",
       "    <tr>\n",
       "      <th>1</th>\n",
       "      <td>1372637303620000596</td>\n",
       "      <td>[[-8.639847,41.159826],[-8.640351,41.159871],[...</td>\n",
       "    </tr>\n",
       "    <tr>\n",
       "      <th>2</th>\n",
       "      <td>1372636951620000320</td>\n",
       "      <td>[[-8.612964,41.140359],[-8.613378,41.14035],[-...</td>\n",
       "    </tr>\n",
       "    <tr>\n",
       "      <th>3</th>\n",
       "      <td>1372636854620000520</td>\n",
       "      <td>[[-8.574678,41.151951],[-8.574705,41.151942],[...</td>\n",
       "    </tr>\n",
       "    <tr>\n",
       "      <th>4</th>\n",
       "      <td>1372637091620000337</td>\n",
       "      <td>[[-8.645994,41.18049],[-8.645949,41.180517],[-...</td>\n",
       "    </tr>\n",
       "  </tbody>\n",
       "</table>\n",
       "</div>"
      ],
      "text/plain": [
       "               TRIP_ID                                           POLYLINE\n",
       "0  1372636858620000589  [[-8.618643,41.141412],[-8.618499,41.141376],[...\n",
       "1  1372637303620000596  [[-8.639847,41.159826],[-8.640351,41.159871],[...\n",
       "2  1372636951620000320  [[-8.612964,41.140359],[-8.613378,41.14035],[-...\n",
       "3  1372636854620000520  [[-8.574678,41.151951],[-8.574705,41.151942],[...\n",
       "4  1372637091620000337  [[-8.645994,41.18049],[-8.645949,41.180517],[-..."
      ]
     },
     "execution_count": 113,
     "metadata": {},
     "output_type": "execute_result"
    }
   ],
   "source": [
    "data = data.drop(columns=data.columns[1:-1])\n",
    "data.head()"
   ]
  },
  {
   "cell_type": "markdown",
   "id": "strong-shoot",
   "metadata": {},
   "source": [
    "https://www.kaggle.com/crailtap/taxi-trajectory"
   ]
  },
  {
   "cell_type": "markdown",
   "id": "creative-rwanda",
   "metadata": {},
   "source": [
    "## Functions"
   ]
  },
  {
   "cell_type": "code",
   "execution_count": 114,
   "id": "saving-antenna",
   "metadata": {},
   "outputs": [],
   "source": [
    "def remove_repeats(vals):\n",
    "    if len(vals) == 0:\n",
    "        return None\n",
    "    result = []\n",
    "    curr = vals[0]\n",
    "    for val in vals[1:]:\n",
    "        if val != curr:\n",
    "            result.append(curr)\n",
    "        curr = val\n",
    "    result.append(curr)\n",
    "    return result"
   ]
  },
  {
   "cell_type": "code",
   "execution_count": 115,
   "id": "answering-cuisine",
   "metadata": {},
   "outputs": [],
   "source": [
    "def latlon_to_h3(latlons, res=7):\n",
    "    latlons = ast.literal_eval(latlons)\n",
    "    result = []\n",
    "    for latlon in latlons:\n",
    "        h3_id = h3.geo_to_h3(latlon[0], latlon[1], res)\n",
    "        result.append(h3_id)\n",
    "    result = remove_repeats(result)\n",
    "    return result"
   ]
  },
  {
   "cell_type": "markdown",
   "id": "personal-facial",
   "metadata": {},
   "source": [
    "## Feature Engineering"
   ]
  },
  {
   "cell_type": "markdown",
   "id": "cardiovascular-hardware",
   "metadata": {},
   "source": [
    "### Convert to H3 Ids"
   ]
  },
  {
   "cell_type": "code",
   "execution_count": 116,
   "id": "african-approach",
   "metadata": {},
   "outputs": [],
   "source": [
    "data[\"H3_POLYLINE\"] = data[\"POLYLINE\"].apply(latlon_to_h3)"
   ]
  },
  {
   "cell_type": "code",
   "execution_count": 117,
   "id": "bored-standard",
   "metadata": {},
   "outputs": [],
   "source": [
    "data = data.dropna(axis=0, subset=[\"H3_POLYLINE\"])"
   ]
  },
  {
   "cell_type": "code",
   "execution_count": 118,
   "id": "ongoing-scottish",
   "metadata": {},
   "outputs": [
    {
     "name": "stdout",
     "output_type": "stream",
     "text": [
      "6722453\n"
     ]
    }
   ],
   "source": [
    "data[\"len_h3\"] = data[\"H3_POLYLINE\"].apply(len)\n",
    "data = data[data[\"len_h3\"] > 1]\n",
    "print(data[\"len_h3\"].sum())\n",
    "data = data.drop(columns=[\"len_h3\"])"
   ]
  },
  {
   "cell_type": "code",
   "execution_count": 119,
   "id": "amazing-hopkins",
   "metadata": {},
   "outputs": [
    {
     "data": {
      "text/html": [
       "<div>\n",
       "<style scoped>\n",
       "    .dataframe tbody tr th:only-of-type {\n",
       "        vertical-align: middle;\n",
       "    }\n",
       "\n",
       "    .dataframe tbody tr th {\n",
       "        vertical-align: top;\n",
       "    }\n",
       "\n",
       "    .dataframe thead th {\n",
       "        text-align: right;\n",
       "    }\n",
       "</style>\n",
       "<table border=\"1\" class=\"dataframe\">\n",
       "  <thead>\n",
       "    <tr style=\"text-align: right;\">\n",
       "      <th></th>\n",
       "      <th>TRIP_ID</th>\n",
       "      <th>POLYLINE</th>\n",
       "      <th>H3_POLYLINE</th>\n",
       "    </tr>\n",
       "  </thead>\n",
       "  <tbody>\n",
       "    <tr>\n",
       "      <th>0</th>\n",
       "      <td>1372636858620000589</td>\n",
       "      <td>[[-8.618643,41.141412],[-8.618499,41.141376],[...</td>\n",
       "      <td>[877b63adbffffff, 877b63ad9ffffff, 877b63adbff...</td>\n",
       "    </tr>\n",
       "    <tr>\n",
       "      <th>1</th>\n",
       "      <td>1372637303620000596</td>\n",
       "      <td>[[-8.639847,41.159826],[-8.640351,41.159871],[...</td>\n",
       "      <td>[877b63ad8ffffff, 877b63addffffff, 877b63adcff...</td>\n",
       "    </tr>\n",
       "    <tr>\n",
       "      <th>2</th>\n",
       "      <td>1372636951620000320</td>\n",
       "      <td>[[-8.612964,41.140359],[-8.613378,41.14035],[-...</td>\n",
       "      <td>[877b63adbffffff, 877b63ad9ffffff, 877b63adbff...</td>\n",
       "    </tr>\n",
       "    <tr>\n",
       "      <th>3</th>\n",
       "      <td>1372636854620000520</td>\n",
       "      <td>[[-8.574678,41.151951],[-8.574705,41.151942],[...</td>\n",
       "      <td>[877b63370ffffff, 877b63adbffffff, 877b63370ff...</td>\n",
       "    </tr>\n",
       "    <tr>\n",
       "      <th>4</th>\n",
       "      <td>1372637091620000337</td>\n",
       "      <td>[[-8.645994,41.18049],[-8.645949,41.180517],[-...</td>\n",
       "      <td>[877b63adeffffff, 877b63adcffffff, 877b63ac3ff...</td>\n",
       "    </tr>\n",
       "  </tbody>\n",
       "</table>\n",
       "</div>"
      ],
      "text/plain": [
       "               TRIP_ID                                           POLYLINE  \\\n",
       "0  1372636858620000589  [[-8.618643,41.141412],[-8.618499,41.141376],[...   \n",
       "1  1372637303620000596  [[-8.639847,41.159826],[-8.640351,41.159871],[...   \n",
       "2  1372636951620000320  [[-8.612964,41.140359],[-8.613378,41.14035],[-...   \n",
       "3  1372636854620000520  [[-8.574678,41.151951],[-8.574705,41.151942],[...   \n",
       "4  1372637091620000337  [[-8.645994,41.18049],[-8.645949,41.180517],[-...   \n",
       "\n",
       "                                         H3_POLYLINE  \n",
       "0  [877b63adbffffff, 877b63ad9ffffff, 877b63adbff...  \n",
       "1  [877b63ad8ffffff, 877b63addffffff, 877b63adcff...  \n",
       "2  [877b63adbffffff, 877b63ad9ffffff, 877b63adbff...  \n",
       "3  [877b63370ffffff, 877b63adbffffff, 877b63370ff...  \n",
       "4  [877b63adeffffff, 877b63adcffffff, 877b63ac3ff...  "
      ]
     },
     "execution_count": 119,
     "metadata": {},
     "output_type": "execute_result"
    }
   ],
   "source": [
    "data.head()"
   ]
  },
  {
   "cell_type": "code",
   "execution_count": 120,
   "id": "minute-hawaii",
   "metadata": {},
   "outputs": [],
   "source": [
    "data.to_csv(\"../data/data_with_h3.csv\", index=False)"
   ]
  },
  {
   "cell_type": "markdown",
   "id": "written-powell",
   "metadata": {},
   "source": [
    "### Tokenizing H3 IDs"
   ]
  },
  {
   "cell_type": "code",
   "execution_count": 121,
   "id": "south-bulgaria",
   "metadata": {},
   "outputs": [],
   "source": [
    "unq_h3_ids = data.explode(\"H3_POLYLINE\").H3_POLYLINE.unique()"
   ]
  },
  {
   "cell_type": "code",
   "execution_count": 122,
   "id": "above-stations",
   "metadata": {},
   "outputs": [],
   "source": [
    "h3_to_token = {}\n",
    "token_to_h3 = {}\n",
    "for i in range(len(unq_h3_ids)):\n",
    "    h3_to_token[unq_h3_ids[i]] = i\n",
    "    token_to_h3[i] = unq_h3_ids[i]"
   ]
  },
  {
   "cell_type": "code",
   "execution_count": 123,
   "id": "dated-sellers",
   "metadata": {},
   "outputs": [],
   "source": [
    "with open(\"../models/tokenizers/encode_h3_to_token.pickle\", \"wb\") as f:\n",
    "    pickle.dump(h3_to_token, f)\n",
    "with open(\"../models/tokenizers/decode_token_to_h3.pickle\", \"wb\") as f:\n",
    "    pickle.dump(token_to_h3, f)"
   ]
  },
  {
   "cell_type": "code",
   "execution_count": 124,
   "id": "found-burke",
   "metadata": {},
   "outputs": [],
   "source": [
    "def tokenize(vals, val_to_token_dict):\n",
    "    result = []\n",
    "    for val in vals:\n",
    "        result.append(val_to_token_dict[val])\n",
    "    return result"
   ]
  },
  {
   "cell_type": "code",
   "execution_count": 125,
   "id": "italic-portuguese",
   "metadata": {},
   "outputs": [],
   "source": [
    "def decode(tokens, token_to_val_dict):\n",
    "    result = []\n",
    "    for token in tokens:\n",
    "        result.append(token_to_val_dict[token])\n",
    "    return result"
   ]
  },
  {
   "cell_type": "code",
   "execution_count": 126,
   "id": "psychological-liberal",
   "metadata": {},
   "outputs": [],
   "source": [
    "data[\"h3_tokens\"] = data[\"H3_POLYLINE\"].apply(lambda x: tokenize(x, h3_to_token))"
   ]
  },
  {
   "cell_type": "code",
   "execution_count": 127,
   "id": "chinese-services",
   "metadata": {},
   "outputs": [],
   "source": [
    "token_vocab = data[\"h3_tokens\"].explode().unique().tolist()"
   ]
  },
  {
   "cell_type": "code",
   "execution_count": 128,
   "id": "honey-husband",
   "metadata": {},
   "outputs": [
    {
     "data": {
      "text/html": [
       "<div>\n",
       "<style scoped>\n",
       "    .dataframe tbody tr th:only-of-type {\n",
       "        vertical-align: middle;\n",
       "    }\n",
       "\n",
       "    .dataframe tbody tr th {\n",
       "        vertical-align: top;\n",
       "    }\n",
       "\n",
       "    .dataframe thead th {\n",
       "        text-align: right;\n",
       "    }\n",
       "</style>\n",
       "<table border=\"1\" class=\"dataframe\">\n",
       "  <thead>\n",
       "    <tr style=\"text-align: right;\">\n",
       "      <th></th>\n",
       "      <th>TRIP_ID</th>\n",
       "      <th>POLYLINE</th>\n",
       "      <th>H3_POLYLINE</th>\n",
       "      <th>h3_tokens</th>\n",
       "    </tr>\n",
       "  </thead>\n",
       "  <tbody>\n",
       "    <tr>\n",
       "      <th>0</th>\n",
       "      <td>1372636858620000589</td>\n",
       "      <td>[[-8.618643,41.141412],[-8.618499,41.141376],[...</td>\n",
       "      <td>[877b63adbffffff, 877b63ad9ffffff, 877b63adbff...</td>\n",
       "      <td>[0, 1, 0, 2, 0]</td>\n",
       "    </tr>\n",
       "    <tr>\n",
       "      <th>1</th>\n",
       "      <td>1372637303620000596</td>\n",
       "      <td>[[-8.639847,41.159826],[-8.640351,41.159871],[...</td>\n",
       "      <td>[877b63ad8ffffff, 877b63addffffff, 877b63adcff...</td>\n",
       "      <td>[2, 3, 4, 5, 4]</td>\n",
       "    </tr>\n",
       "    <tr>\n",
       "      <th>2</th>\n",
       "      <td>1372636951620000320</td>\n",
       "      <td>[[-8.612964,41.140359],[-8.613378,41.14035],[-...</td>\n",
       "      <td>[877b63adbffffff, 877b63ad9ffffff, 877b63adbff...</td>\n",
       "      <td>[0, 1, 0, 2, 3, 6, 3, 1, 0]</td>\n",
       "    </tr>\n",
       "    <tr>\n",
       "      <th>3</th>\n",
       "      <td>1372636854620000520</td>\n",
       "      <td>[[-8.574678,41.151951],[-8.574705,41.151942],[...</td>\n",
       "      <td>[877b63370ffffff, 877b63adbffffff, 877b63370ff...</td>\n",
       "      <td>[7, 0, 7, 6]</td>\n",
       "    </tr>\n",
       "    <tr>\n",
       "      <th>4</th>\n",
       "      <td>1372637091620000337</td>\n",
       "      <td>[[-8.645994,41.18049],[-8.645949,41.180517],[-...</td>\n",
       "      <td>[877b63adeffffff, 877b63adcffffff, 877b63ac3ff...</td>\n",
       "      <td>[8, 4, 5, 9, 10]</td>\n",
       "    </tr>\n",
       "  </tbody>\n",
       "</table>\n",
       "</div>"
      ],
      "text/plain": [
       "               TRIP_ID                                           POLYLINE  \\\n",
       "0  1372636858620000589  [[-8.618643,41.141412],[-8.618499,41.141376],[...   \n",
       "1  1372637303620000596  [[-8.639847,41.159826],[-8.640351,41.159871],[...   \n",
       "2  1372636951620000320  [[-8.612964,41.140359],[-8.613378,41.14035],[-...   \n",
       "3  1372636854620000520  [[-8.574678,41.151951],[-8.574705,41.151942],[...   \n",
       "4  1372637091620000337  [[-8.645994,41.18049],[-8.645949,41.180517],[-...   \n",
       "\n",
       "                                         H3_POLYLINE  \\\n",
       "0  [877b63adbffffff, 877b63ad9ffffff, 877b63adbff...   \n",
       "1  [877b63ad8ffffff, 877b63addffffff, 877b63adcff...   \n",
       "2  [877b63adbffffff, 877b63ad9ffffff, 877b63adbff...   \n",
       "3  [877b63370ffffff, 877b63adbffffff, 877b63370ff...   \n",
       "4  [877b63adeffffff, 877b63adcffffff, 877b63ac3ff...   \n",
       "\n",
       "                     h3_tokens  \n",
       "0              [0, 1, 0, 2, 0]  \n",
       "1              [2, 3, 4, 5, 4]  \n",
       "2  [0, 1, 0, 2, 3, 6, 3, 1, 0]  \n",
       "3                 [7, 0, 7, 6]  \n",
       "4             [8, 4, 5, 9, 10]  "
      ]
     },
     "execution_count": 128,
     "metadata": {},
     "output_type": "execute_result"
    }
   ],
   "source": [
    "data.head()"
   ]
  },
  {
   "cell_type": "markdown",
   "id": "armed-disclosure",
   "metadata": {},
   "source": [
    "### Skipgram features"
   ]
  },
  {
   "cell_type": "code",
   "execution_count": 129,
   "id": "vietnamese-management",
   "metadata": {},
   "outputs": [],
   "source": [
    "test_inp = list(range(1, 6))\n",
    "window_size = 2"
   ]
  },
  {
   "cell_type": "markdown",
   "id": "apparent-wrist",
   "metadata": {},
   "source": [
    "#### Positive pairs"
   ]
  },
  {
   "cell_type": "code",
   "execution_count": 130,
   "id": "black-freeze",
   "metadata": {},
   "outputs": [],
   "source": [
    "def get_positive_pairs(seq, window_size=3):\n",
    "    pairs = []\n",
    "    for i in range(len(seq)):\n",
    "        for j in reversed(range(1, window_size+1)):\n",
    "            new_idx = i - j\n",
    "            if new_idx >= 0:\n",
    "                pairs.append([seq[i], seq[new_idx], 1])\n",
    "        for k in range(1, window_size+1):\n",
    "            new_idx = i + k\n",
    "            if new_idx < len(seq):\n",
    "                pairs.append([seq[i], seq[new_idx], 1])\n",
    "    return pairs"
   ]
  },
  {
   "cell_type": "code",
   "execution_count": 131,
   "id": "southwest-infrastructure",
   "metadata": {},
   "outputs": [
    {
     "name": "stdout",
     "output_type": "stream",
     "text": [
      "7.343292236328125e-05\n"
     ]
    },
    {
     "data": {
      "text/plain": [
       "[1, 2, 1]"
      ]
     },
     "execution_count": 131,
     "metadata": {},
     "output_type": "execute_result"
    }
   ],
   "source": [
    "start_time = time.time()\n",
    "temp_pos_pairs = get_positive_pairs(test_inp)\n",
    "print(time.time() - start_time)\n",
    "temp_pos_pairs[0]"
   ]
  },
  {
   "cell_type": "markdown",
   "id": "eleven-cigarette",
   "metadata": {},
   "source": [
    "#### Get negative pairs"
   ]
  },
  {
   "cell_type": "code",
   "execution_count": 132,
   "id": "cheap-invasion",
   "metadata": {},
   "outputs": [],
   "source": [
    "def get_training_sample(positive_pair, vocab, num_pairs=2):\n",
    "    try:\n",
    "        target = positive_pair[0]\n",
    "    except:\n",
    "        print(positive_pair)\n",
    "    contexts = [positive_pair[1]]\n",
    "    labels = [1]\n",
    "    while True:\n",
    "        neg_context = np.random.choice(vocab, size=1)[0]\n",
    "        if neg_context not in positive_pair:\n",
    "            contexts.append(neg_context)\n",
    "            labels.append(0)\n",
    "        if len(contexts) == num_pairs + 1:\n",
    "            break\n",
    "            \n",
    "    c_l = list(zip(contexts, labels))\n",
    "    random.shuffle(c_l)\n",
    "    contexts, labels = zip(*c_l)\n",
    "\n",
    "    return target, *contexts, *labels"
   ]
  },
  {
   "cell_type": "code",
   "execution_count": 133,
   "id": "official-dispute",
   "metadata": {},
   "outputs": [],
   "source": [
    "temp_pos = temp_pos_pairs[0]"
   ]
  },
  {
   "cell_type": "code",
   "execution_count": 134,
   "id": "overall-bidding",
   "metadata": {},
   "outputs": [
    {
     "name": "stdout",
     "output_type": "stream",
     "text": [
      "0.000843048095703125\n"
     ]
    },
    {
     "data": {
      "text/plain": [
       "(1, 463, 828, 2, 0, 0, 1)"
      ]
     },
     "execution_count": 134,
     "metadata": {},
     "output_type": "execute_result"
    }
   ],
   "source": [
    "start_time = time.time()\n",
    "temp_neg_pairs = get_training_sample(temp_pos, token_vocab, 2)\n",
    "print(time.time() - start_time)\n",
    "temp_neg_pairs"
   ]
  },
  {
   "cell_type": "markdown",
   "id": "dated-lambda",
   "metadata": {},
   "source": [
    "### Creating training set"
   ]
  },
  {
   "cell_type": "code",
   "execution_count": 135,
   "id": "federal-milan",
   "metadata": {},
   "outputs": [],
   "source": [
    "def tokens_to_skipgram_data_mp(token_pairs, token_vocab, num_neg_sample):\n",
    "    pool = mp.Pool(processes=6)\n",
    "    result = pool.starmap_async(get_training_sample, zip(token_pairs, itertools.repeat(token_vocab), itertools.repeat(num_neg_sample)))\n",
    "    result = np.array(result.get())\n",
    "    targets = np.expand_dims(result[:, 0], 1)\n",
    "    contexts = result[:, 1:num_neg_sample+2]\n",
    "    labels = result[:, num_neg_sample+2:]\n",
    "    return targets, contexts, labels"
   ]
  },
  {
   "cell_type": "code",
   "execution_count": 136,
   "id": "billion-wallace",
   "metadata": {},
   "outputs": [],
   "source": [
    "def get_batch_indices(data_len, batch_sz):\n",
    "    batches = []\n",
    "    num_batches = math.ceil(data_len / batch_sz)\n",
    "    for i in range(num_batches):\n",
    "        batches.append((i*batch_sz, (i+1)*batch_sz))\n",
    "    return batches"
   ]
  },
  {
   "cell_type": "code",
   "execution_count": 137,
   "id": "thousand-potential",
   "metadata": {},
   "outputs": [],
   "source": [
    "batch_idx = get_batch_indices(len(data), 150000)\n",
    "runtimes = []"
   ]
  },
  {
   "cell_type": "code",
   "execution_count": 138,
   "id": "pacific-steal",
   "metadata": {},
   "outputs": [],
   "source": [
    "part_num=1\n",
    "for idx in batch_idx:\n",
    "    start = time.time()\n",
    "    data_batch = data.loc[idx[0]:idx[1], \"h3_tokens\"].copy()\n",
    "    \n",
    "    data_batch = data_batch.apply(lambda x: get_positive_pairs(x, 2))\n",
    "    data_batch = data_batch.explode()\n",
    "    \n",
    "    train_targets, train_contexts, train_labels = tokens_to_skipgram_data_mp(data_batch, token_vocab, 2)\n",
    "    \n",
    "    train_targets_tensor = torch.tensor(train_targets)\n",
    "    train_contexts_tensor = torch.tensor(train_contexts)\n",
    "    train_labels_tensor = torch.tensor(train_labels)\n",
    "    \n",
    "    torch.save(train_targets_tensor, f\"../data/loc2vec_train_pt_tensors/targets/train_targets_part{part_num}.pt\")\n",
    "    torch.save(train_contexts_tensor, f\"../data/loc2vec_train_pt_tensors/contexts/train_contexts_part{part_num}.pt\")\n",
    "    torch.save(train_labels_tensor, f\"../data/loc2vec_train_pt_tensors/labels/train_labels_part{part_num}.pt\")\n",
    "    \n",
    "    part_num+=1\n",
    "    rt = time.time() - start\n",
    "    runtimes.append(rt)"
   ]
  },
  {
   "cell_type": "code",
   "execution_count": 139,
   "id": "consistent-services",
   "metadata": {},
   "outputs": [],
   "source": [
    "rt_df = pd.DataFrame({\"runtimes\":runtimes})\n",
    "rt_df.to_csv(\"data_gen_runtimes.csv\", index=False)"
   ]
  },
  {
   "cell_type": "code",
   "execution_count": null,
   "id": "designed-jefferson",
   "metadata": {},
   "outputs": [],
   "source": []
  }
 ],
 "metadata": {
  "kernelspec": {
   "display_name": "Python 3",
   "language": "python",
   "name": "python3"
  },
  "language_info": {
   "codemirror_mode": {
    "name": "ipython",
    "version": 3
   },
   "file_extension": ".py",
   "mimetype": "text/x-python",
   "name": "python",
   "nbconvert_exporter": "python",
   "pygments_lexer": "ipython3",
   "version": "3.8.8"
  }
 },
 "nbformat": 4,
 "nbformat_minor": 5
}
