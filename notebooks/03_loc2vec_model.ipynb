{
 "cells": [
  {
   "cell_type": "code",
   "execution_count": 1,
   "id": "understanding-bradley",
   "metadata": {},
   "outputs": [],
   "source": [
    "import torch\n",
    "from torch.nn import Module\n",
    "from torch.utils.data import Dataset, DataLoader\n",
    "\n",
    "import pandas as pd\n",
    "import pickle\n",
    "\n",
    "import matplotlib.pyplot as plt"
   ]
  },
  {
   "cell_type": "code",
   "execution_count": 2,
   "id": "cooperative-industry",
   "metadata": {},
   "outputs": [],
   "source": [
    "targets = torch.load(\"../data/subset_train_targets.pt\")\n",
    "contexts = torch.load(\"../data/subset_train_contexts.pt\")\n",
    "labels = torch.load(\"../data/subset_train_labels.pt\")"
   ]
  },
  {
   "cell_type": "code",
   "execution_count": 3,
   "id": "coastal-redhead",
   "metadata": {},
   "outputs": [
    {
     "data": {
      "text/plain": [
       "torch.Size([220930, 1])"
      ]
     },
     "execution_count": 3,
     "metadata": {},
     "output_type": "execute_result"
    }
   ],
   "source": [
    "targets.shape"
   ]
  },
  {
   "cell_type": "code",
   "execution_count": 4,
   "id": "qualified-library",
   "metadata": {},
   "outputs": [
    {
     "data": {
      "text/plain": [
       "torch.Size([220930, 3])"
      ]
     },
     "execution_count": 4,
     "metadata": {},
     "output_type": "execute_result"
    }
   ],
   "source": [
    "contexts.shape"
   ]
  },
  {
   "cell_type": "code",
   "execution_count": 5,
   "id": "cathedral-coverage",
   "metadata": {},
   "outputs": [
    {
     "data": {
      "text/plain": [
       "torch.Size([220930, 3])"
      ]
     },
     "execution_count": 5,
     "metadata": {},
     "output_type": "execute_result"
    }
   ],
   "source": [
    "labels.shape"
   ]
  },
  {
   "cell_type": "code",
   "execution_count": 6,
   "id": "bearing-frame",
   "metadata": {},
   "outputs": [],
   "source": [
    "with open(\"../models/tokenizers/decode_token_to_h3.pickle\", \"rb\") as f:\n",
    "    decode_dict = pickle.load(f)"
   ]
  },
  {
   "cell_type": "code",
   "execution_count": 7,
   "id": "blocked-pantyhose",
   "metadata": {},
   "outputs": [],
   "source": [
    "vocab_size = len(decode_dict.keys())"
   ]
  },
  {
   "cell_type": "code",
   "execution_count": 8,
   "id": "alpine-taste",
   "metadata": {},
   "outputs": [],
   "source": [
    "class Loc2VecDataset(Dataset):\n",
    "    def __init__(self, targets, contexts, labels):\n",
    "        super().__init__()\n",
    "        self.targets = targets\n",
    "        self.contexts = contexts\n",
    "        self.labels = labels\n",
    "    def __len__(self):\n",
    "        return len(self.labels)\n",
    "    def __getitem__(self, idx):\n",
    "        return self.targets[idx], self.contexts[idx, :], self.labels[idx, :]"
   ]
  },
  {
   "cell_type": "code",
   "execution_count": 9,
   "id": "ecological-eleven",
   "metadata": {},
   "outputs": [],
   "source": [
    "train_dataset = Loc2VecDataset(targets, contexts, labels)"
   ]
  },
  {
   "cell_type": "code",
   "execution_count": 10,
   "id": "touched-tiffany",
   "metadata": {},
   "outputs": [],
   "source": [
    "train_dataloader = DataLoader(train_dataset, batch_size=128)"
   ]
  },
  {
   "cell_type": "code",
   "execution_count": 11,
   "id": "faced-pledge",
   "metadata": {},
   "outputs": [],
   "source": [
    "temp_embed = torch.nn.Embedding(vocab_size, 50)"
   ]
  },
  {
   "cell_type": "code",
   "execution_count": 12,
   "id": "lined-reality",
   "metadata": {},
   "outputs": [
    {
     "name": "stdout",
     "output_type": "stream",
     "text": [
      "Targets shape: torch.Size([128, 1])\n",
      "Contexts shape: torch.Size([128, 3])\n",
      "Labels shape: torch.Size([128, 3])\n",
      "\n",
      "Targets embedding shape: torch.Size([128, 1, 50])\n",
      "Contexts embedding shape: torch.Size([128, 3, 50])\n"
     ]
    }
   ],
   "source": [
    "for t, c, l in train_dataloader:\n",
    "    print(f\"Targets shape: {t.shape}\")\n",
    "    print(f\"Contexts shape: {c.shape}\")\n",
    "    print(f\"Labels shape: {l.shape}\")\n",
    "    print()\n",
    "    \n",
    "    t_embed = temp_embed(t)\n",
    "    c_embed = temp_embed(c)\n",
    "    print(f\"Targets embedding shape: {t_embed.shape}\")\n",
    "    print(f\"Contexts embedding shape: {c_embed.shape}\")\n",
    "    break"
   ]
  },
  {
   "cell_type": "code",
   "execution_count": 13,
   "id": "challenging-lingerie",
   "metadata": {},
   "outputs": [
    {
     "name": "stdout",
     "output_type": "stream",
     "text": [
      "Dot products shape: torch.Size([128, 3])\n"
     ]
    }
   ],
   "source": [
    "dot_products = torch.bmm(t_embed, \n",
    "                         c_embed.view(c_embed.shape[0], \n",
    "                                      c_embed.shape[2], \n",
    "                                      c_embed.shape[1])\n",
    "                        )\n",
    "dot_products = dot_products.reshape((dot_products.shape[0], dot_products.shape[2]))\n",
    "print(f\"Dot products shape: {dot_products.shape}\")"
   ]
  },
  {
   "cell_type": "code",
   "execution_count": 14,
   "id": "caroline-liver",
   "metadata": {},
   "outputs": [],
   "source": [
    "class Loc2Vec(Module):\n",
    "    def __init__(self, vocab_size, embedding_size):\n",
    "        super().__init__()\n",
    "        self.target_embed = torch.nn.Embedding(vocab_size, embedding_size)\n",
    "        self.context_embed = torch.nn.Embedding(vocab_size, embedding_size)\n",
    "    def forward(self, target, context):\n",
    "        target_embedding = self.target_embed(target)\n",
    "        context_embedding = self.context_embed(context)\n",
    "        dot_products = torch.bmm(target_embedding, context_embedding.view(context_embedding.shape[0], \n",
    "                                                                          context_embedding.shape[2], \n",
    "                                                                          context_embedding.shape[1]))\n",
    "        dot_products = dot_products.reshape((dot_products.shape[0], \n",
    "                                             dot_products.shape[2]))\n",
    "        return dot_products"
   ]
  },
  {
   "cell_type": "code",
   "execution_count": 15,
   "id": "figured-thompson",
   "metadata": {},
   "outputs": [],
   "source": [
    "temp_model = Loc2Vec(vocab_size, 100)"
   ]
  },
  {
   "cell_type": "code",
   "execution_count": 16,
   "id": "advised-inclusion",
   "metadata": {},
   "outputs": [
    {
     "name": "stdout",
     "output_type": "stream",
     "text": [
      "Loc2Vec output shape: torch.Size([128, 3])\n",
      "Label shape: torch.Size([128, 3])\n"
     ]
    }
   ],
   "source": [
    "temp_out = temp_model(t, c)\n",
    "print(f\"Loc2Vec output shape: {temp_out.shape}\")\n",
    "print(f\"Label shape: {l.shape}\")"
   ]
  },
  {
   "cell_type": "code",
   "execution_count": 17,
   "id": "pacific-maintenance",
   "metadata": {},
   "outputs": [],
   "source": [
    "model = Loc2Vec(vocab_size, 100)\n",
    "\n",
    "loss_func = torch.nn.BCEWithLogitsLoss()\n",
    "optimizer = torch.optim.Adam(model.parameters(), lr=0.001)\n",
    "EPOCHS = 20"
   ]
  },
  {
   "cell_type": "code",
   "execution_count": 18,
   "id": "integrated-blind",
   "metadata": {},
   "outputs": [
    {
     "name": "stdout",
     "output_type": "stream",
     "text": [
      "3.5492680072784424\n",
      "1.7746052742004395\n",
      "0.8328147530555725\n",
      "0.37344691157341003\n",
      "0.1593342125415802\n",
      "0.06046232953667641\n",
      "0.019329747185111046\n",
      "0.0054251886904239655\n",
      "0.0015241990331560373\n",
      "0.00045098765986040235\n"
     ]
    }
   ],
   "source": [
    "losses = []\n",
    "for epoch in range(EPOCHS):\n",
    "    batch_losses = []\n",
    "    for target, context, label in train_dataloader:\n",
    "        pred = model(target, context)\n",
    "        loss = loss_func(pred, label.float())\n",
    "        batch_losses.append(loss)\n",
    "        \n",
    "        #Set gradients to zero\n",
    "        optimizer.zero_grad()\n",
    "        #Compute gradients\n",
    "        loss.backward()\n",
    "        #Update parameters with gradients and LR\n",
    "        optimizer.step()\n",
    "        \n",
    "    batch_loss = sum(batch_losses) / len(batch_losses)\n",
    "    batch_loss = batch_loss.detach().item()\n",
    "    losses.append(batch_loss)\n",
    "    if epoch % 2 == 0:\n",
    "        print(batch_loss)"
   ]
  },
  {
   "cell_type": "code",
   "execution_count": 19,
   "id": "bridal-reproduction",
   "metadata": {},
   "outputs": [
    {
     "data": {
      "text/plain": [
       "[<matplotlib.lines.Line2D at 0x7f995f277f40>]"
      ]
     },
     "execution_count": 19,
     "metadata": {},
     "output_type": "execute_result"
    },
    {
     "data": {
      "image/png": "[encoded data removed]",
      "text/plain": [
       "<Figure size 432x288 with 1 Axes>"
      ]
     },
     "metadata": {
      "needs_background": "light"
     },
     "output_type": "display_data"
    }
   ],
   "source": [
    "plt.plot(losses)"
   ]
  },
  {
   "cell_type": "code",
   "execution_count": 20,
   "id": "treated-lighting",
   "metadata": {},
   "outputs": [
    {
     "name": "stdout",
     "output_type": "stream",
     "text": [
      "Loc2Vec(\n",
      "  (target_embed): Embedding(3685, 100)\n",
      "  (context_embed): Embedding(3685, 100)\n",
      ")\n"
     ]
    }
   ],
   "source": [
    "print(model)"
   ]
  },
  {
   "cell_type": "code",
   "execution_count": 21,
   "id": "external-helena",
   "metadata": {},
   "outputs": [],
   "source": [
    "layers=[]\n",
    "for layer in model.parameters():\n",
    "    layers.append(layer)"
   ]
  },
  {
   "cell_type": "code",
   "execution_count": 22,
   "id": "liable-dominican",
   "metadata": {},
   "outputs": [],
   "source": [
    "target_embedding = layers[0]\n",
    "context_embedding = layers[1]"
   ]
  },
  {
   "cell_type": "code",
   "execution_count": null,
   "id": "generic-lightning",
   "metadata": {},
   "outputs": [],
   "source": []
  }
 ],
 "metadata": {
  "kernelspec": {
   "display_name": "Python 3",
   "language": "python",
   "name": "python3"
  },
  "language_info": {
   "codemirror_mode": {
    "name": "ipython",
    "version": 3
   },
   "file_extension": ".py",
   "mimetype": "text/x-python",
   "name": "python",
   "nbconvert_exporter": "python",
   "pygments_lexer": "ipython3",
   "version": "3.8.8"
  }
 },
 "nbformat": 4,
 "nbformat_minor": 5
}
