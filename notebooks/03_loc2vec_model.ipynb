{
 "cells": [
  {
   "cell_type": "code",
   "execution_count": 1,
   "id": "seeing-visitor",
   "metadata": {},
   "outputs": [],
   "source": [
    "import torch\n",
    "from torch.nn import Module\n",
    "from torch.utils.data import Dataset, DataLoader\n",
    "\n",
    "import pandas as pd\n",
    "import pickle\n",
    "import glob\n",
    "import time\n",
    "\n",
    "import matplotlib.pyplot as plt"
   ]
  },
  {
   "cell_type": "code",
   "execution_count": 2,
   "id": "narrow-crawford",
   "metadata": {},
   "outputs": [],
   "source": [
    "targets_fp = sorted(glob.glob(\"../data/loc2vec_train_pt_tensors/targets/*.pt\"))\n",
    "contexts_fp = sorted(glob.glob(\"../data/loc2vec_train_pt_tensors/contexts/*.pt\"))\n",
    "labels_fp = sorted(glob.glob(\"../data/loc2vec_train_pt_tensors/labels/*.pt\"))"
   ]
  },
  {
   "cell_type": "code",
   "execution_count": 13,
   "id": "empty-testament",
   "metadata": {},
   "outputs": [],
   "source": [
    "with open(\"../models/tokenizers/decode_token_to_h3.pickle\", \"rb\") as f:\n",
    "    decode_dict = pickle.load(f)"
   ]
  },
  {
   "cell_type": "code",
   "execution_count": 14,
   "id": "compatible-space",
   "metadata": {},
   "outputs": [],
   "source": [
    "vocab_size = len(decode_dict.keys())"
   ]
  },
  {
   "cell_type": "code",
   "execution_count": 15,
   "id": "imperial-transportation",
   "metadata": {},
   "outputs": [
    {
     "name": "stdout",
     "output_type": "stream",
     "text": [
      "4047\n"
     ]
    }
   ],
   "source": [
    "print(vocab_size)"
   ]
  },
  {
   "cell_type": "code",
   "execution_count": 16,
   "id": "private-climate",
   "metadata": {},
   "outputs": [],
   "source": [
    "class Loc2VecDataset(Dataset):\n",
    "    def __init__(self, targets, contexts, labels):\n",
    "        super().__init__()\n",
    "        self.targets = targets\n",
    "        self.contexts = contexts\n",
    "        self.labels = labels\n",
    "    def __len__(self):\n",
    "        return len(self.labels)\n",
    "    def __getitem__(self, idx):\n",
    "        return self.targets[idx, :], self.contexts[idx, :], self.labels[idx, :]"
   ]
  },
  {
   "cell_type": "code",
   "execution_count": 17,
   "id": "minimal-phone",
   "metadata": {},
   "outputs": [],
   "source": [
    "class Loc2Vec(Module):\n",
    "    def __init__(self, vocab_size, embedding_size):\n",
    "        super().__init__()\n",
    "        self.target_embed = torch.nn.Embedding(vocab_size, embedding_size)\n",
    "        self.context_embed = torch.nn.Embedding(vocab_size, embedding_size)\n",
    "    def forward(self, target, context):\n",
    "        target_embedding = self.target_embed(target)\n",
    "        context_embedding = self.context_embed(context)\n",
    "        dot_products = torch.bmm(target_embedding, context_embedding.view(context_embedding.shape[0], \n",
    "                                                                          context_embedding.shape[2], \n",
    "                                                                          context_embedding.shape[1]))\n",
    "        dot_products = dot_products.reshape((dot_products.shape[0], \n",
    "                                             dot_products.shape[2]))\n",
    "        return dot_products"
   ]
  },
  {
   "cell_type": "code",
   "execution_count": 23,
   "id": "promotional-swing",
   "metadata": {},
   "outputs": [],
   "source": [
    "model = Loc2Vec(vocab_size, 100)\n",
    "\n",
    "loss_func = torch.nn.BCEWithLogitsLoss()\n",
    "optimizer = torch.optim.Adam(model.parameters(), lr=0.001)\n",
    "EPOCHS = 8"
   ]
  },
  {
   "cell_type": "code",
   "execution_count": 24,
   "id": "skilled-aaron",
   "metadata": {},
   "outputs": [],
   "source": [
    "dataloaders = []\n",
    "for t, c, l in zip(targets_fp, contexts_fp, labels_fp):\n",
    "    t_tensor = torch.load(t)\n",
    "    c_tensor = torch.load(c)\n",
    "    l_tensor = torch.load(l)\n",
    "    train_dataset = Loc2VecDataset(t_tensor, c_tensor, l_tensor)\n",
    "    train_dataloader = DataLoader(train_dataset, batch_size=128)\n",
    "    dataloaders.append(train_dataloader)"
   ]
  },
  {
   "cell_type": "code",
   "execution_count": 25,
   "id": "heavy-helmet",
   "metadata": {},
   "outputs": [
    {
     "name": "stdout",
     "output_type": "stream",
     "text": [
      "0.0979195311665535\n",
      "0.006339101120829582\n",
      "0.0030422809068113565\n",
      "0.0020846398547291756\n"
     ]
    }
   ],
   "source": [
    "losses = []\n",
    "times = []\n",
    "for epoch in range(EPOCHS):\n",
    "    epoch_start = time.time()\n",
    "    batch_losses = []\n",
    "    for dataloader in dataloaders:\n",
    "        for target, context, label in dataloader:\n",
    "            pred = model(target, context)\n",
    "            loss = loss_func(pred, label.float())\n",
    "            batch_losses.append(loss)\n",
    "\n",
    "            #Set gradients to zero\n",
    "            optimizer.zero_grad()\n",
    "            #Compute gradients\n",
    "            loss.backward()\n",
    "            #Update parameters with gradients and LR\n",
    "            optimizer.step()\n",
    "\n",
    "    batch_loss = sum(batch_losses) / len(batch_losses)\n",
    "    batch_loss = batch_loss.detach().item()\n",
    "    losses.append(batch_loss)\n",
    "    if epoch % 2 == 0:\n",
    "        print(batch_loss)\n",
    "    epoch_rt = time.time() - epoch_start\n",
    "    times.append(epoch_rt)\n",
    "    torch.save(model.state_dict(), f\"../models/embeddings/epoch_chkpt/loc2vec_100k_epoch{epoch}_9_29\")"
   ]
  },
  {
   "cell_type": "code",
   "execution_count": 26,
   "id": "domestic-doctrine",
   "metadata": {},
   "outputs": [
    {
     "data": {
      "text/plain": [
       "[<matplotlib.lines.Line2D at 0x7ff71175c5e0>]"
      ]
     },
     "execution_count": 26,
     "metadata": {},
     "output_type": "execute_result"
    },
    {
     "data": {
      "image/png": "[encoded data removed]",
      "text/plain": [
       "<Figure size 432x288 with 1 Axes>"
      ]
     },
     "metadata": {
      "needs_background": "light"
     },
     "output_type": "display_data"
    }
   ],
   "source": [
    "plt.plot(losses)"
   ]
  },
  {
   "cell_type": "code",
   "execution_count": 27,
   "id": "unique-creature",
   "metadata": {},
   "outputs": [
    {
     "data": {
      "text/plain": [
       "[<matplotlib.lines.Line2D at 0x7ff6a481eca0>]"
      ]
     },
     "execution_count": 27,
     "metadata": {},
     "output_type": "execute_result"
    },
    {
     "data": {
      "image/png": "[encoded data removed]",
      "text/plain": [
       "<Figure size 432x288 with 1 Axes>"
      ]
     },
     "metadata": {
      "needs_background": "light"
     },
     "output_type": "display_data"
    }
   ],
   "source": [
    "plt.plot(times)"
   ]
  },
  {
   "cell_type": "code",
   "execution_count": 28,
   "id": "heavy-macro",
   "metadata": {},
   "outputs": [],
   "source": [
    "torch.save(model.state_dict(), \"../models/embeddings/loc2vec_100k_9_28\")"
   ]
  },
  {
   "cell_type": "code",
   "execution_count": null,
   "id": "taken-episode",
   "metadata": {},
   "outputs": [],
   "source": []
  }
 ],
 "metadata": {
  "kernelspec": {
   "display_name": "Python 3",
   "language": "python",
   "name": "python3"
  },
  "language_info": {
   "codemirror_mode": {
    "name": "ipython",
    "version": 3
   },
   "file_extension": ".py",
   "mimetype": "text/x-python",
   "name": "python",
   "nbconvert_exporter": "python",
   "pygments_lexer": "ipython3",
   "version": "3.8.8"
  }
 },
 "nbformat": 4,
 "nbformat_minor": 5
}
