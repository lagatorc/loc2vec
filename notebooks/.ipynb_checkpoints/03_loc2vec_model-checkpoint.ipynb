{
 "cells": [
  {
   "cell_type": "code",
   "execution_count": 23,
   "id": "little-little",
   "metadata": {},
   "outputs": [],
   "source": [
    "import torch\n",
    "from torch.nn import Module\n",
    "from torch.utils.data import Dataset\n",
    "\n",
    "import pandas as pd\n",
    "import pickle"
   ]
  },
  {
   "cell_type": "code",
   "execution_count": 26,
   "id": "rough-knitting",
   "metadata": {},
   "outputs": [
    {
     "data": {
      "text/html": [
       "<div>\n",
       "<style scoped>\n",
       "    .dataframe tbody tr th:only-of-type {\n",
       "        vertical-align: middle;\n",
       "    }\n",
       "\n",
       "    .dataframe tbody tr th {\n",
       "        vertical-align: top;\n",
       "    }\n",
       "\n",
       "    .dataframe thead th {\n",
       "        text-align: right;\n",
       "    }\n",
       "</style>\n",
       "<table border=\"1\" class=\"dataframe\">\n",
       "  <thead>\n",
       "    <tr style=\"text-align: right;\">\n",
       "      <th></th>\n",
       "      <th>context</th>\n",
       "      <th>target</th>\n",
       "      <th>label</th>\n",
       "    </tr>\n",
       "  </thead>\n",
       "  <tbody>\n",
       "    <tr>\n",
       "      <th>0</th>\n",
       "      <td>0</td>\n",
       "      <td>1</td>\n",
       "      <td>1</td>\n",
       "    </tr>\n",
       "    <tr>\n",
       "      <th>1</th>\n",
       "      <td>0</td>\n",
       "      <td>735</td>\n",
       "      <td>0</td>\n",
       "    </tr>\n",
       "    <tr>\n",
       "      <th>2</th>\n",
       "      <td>0</td>\n",
       "      <td>1645</td>\n",
       "      <td>0</td>\n",
       "    </tr>\n",
       "    <tr>\n",
       "      <th>3</th>\n",
       "      <td>0</td>\n",
       "      <td>2</td>\n",
       "      <td>1</td>\n",
       "    </tr>\n",
       "    <tr>\n",
       "      <th>4</th>\n",
       "      <td>0</td>\n",
       "      <td>1966</td>\n",
       "      <td>0</td>\n",
       "    </tr>\n",
       "    <tr>\n",
       "      <th>5</th>\n",
       "      <td>0</td>\n",
       "      <td>105</td>\n",
       "      <td>0</td>\n",
       "    </tr>\n",
       "  </tbody>\n",
       "</table>\n",
       "</div>"
      ],
      "text/plain": [
       "   context  target  label\n",
       "0        0       1      1\n",
       "1        0     735      0\n",
       "2        0    1645      0\n",
       "3        0       2      1\n",
       "4        0    1966      0\n",
       "5        0     105      0"
      ]
     },
     "execution_count": 26,
     "metadata": {},
     "output_type": "execute_result"
    }
   ],
   "source": [
    "data = pd.read_csv(\"../data/loc2vec_train_subset.csv\")\n",
    "data.head(6)"
   ]
  },
  {
   "cell_type": "code",
   "execution_count": 29,
   "id": "hispanic-phenomenon",
   "metadata": {},
   "outputs": [
    {
     "data": {
      "text/plain": [
       "True"
      ]
     },
     "execution_count": 29,
     "metadata": {},
     "output_type": "execute_result"
    }
   ],
   "source": [
    "len(data) % 3 == 0"
   ]
  },
  {
   "cell_type": "code",
   "execution_count": 9,
   "id": "mysterious-memorial",
   "metadata": {},
   "outputs": [],
   "source": [
    "with open(\"../models/tokenizers/decode_token_to_h3.pickle\", \"rb\") as f:\n",
    "    decode_dict = pickle.load(f)"
   ]
  },
  {
   "cell_type": "code",
   "execution_count": 12,
   "id": "million-region",
   "metadata": {},
   "outputs": [],
   "source": [
    "vocab_size = len(decode_dict.keys())"
   ]
  },
  {
   "cell_type": "code",
   "execution_count": 13,
   "id": "animal-impact",
   "metadata": {},
   "outputs": [],
   "source": [
    "class Loc2VecDataset(Dataset):\n",
    "    def __init__(self, pairs, labels):\n",
    "        super().__init__()\n",
    "        self.pairs = pairs\n",
    "        self.labels = labels\n",
    "    def __len__(self):\n",
    "        return len(self.labels)\n",
    "    def __getitem__(self, idx):\n",
    "        return self.pairs[idx, :], self.labels[idx]"
   ]
  },
  {
   "cell_type": "code",
   "execution_count": 18,
   "id": "organic-police",
   "metadata": {},
   "outputs": [],
   "source": [
    "pairs = data.values[:, 0:2]\n",
    "labels = data.values[:, -1]"
   ]
  },
  {
   "cell_type": "code",
   "execution_count": 22,
   "id": "initial-funeral",
   "metadata": {},
   "outputs": [
    {
     "data": {
      "text/plain": [
       "True"
      ]
     },
     "execution_count": 22,
     "metadata": {},
     "output_type": "execute_result"
    }
   ],
   "source": [
    "len(labels) == len(pairs)"
   ]
  },
  {
   "cell_type": "code",
   "execution_count": 25,
   "id": "latest-investigation",
   "metadata": {},
   "outputs": [],
   "source": [
    "target, context = pairs[0]"
   ]
  },
  {
   "cell_type": "code",
   "execution_count": null,
   "id": "split-bradford",
   "metadata": {},
   "outputs": [],
   "source": [
    "class Loc2Vec(Module):\n",
    "    def __init__(vocab_size, embedding_size):\n",
    "        super().__init__()\n",
    "        self.target_embed = torch.nn.Embedding(vocab_size, embedding_size)\n",
    "        self.context_embed = torch.nn.Embedding(vocab_size, embedding_size)\n",
    "    def forward(pair)\n",
    "        target, context = pair\n",
    "        target_embedding = self.target_embed(target)\n",
    "        context_embedding = self.target_embed(target)\n",
    "        torch.dot()"
   ]
  }
 ],
 "metadata": {
  "kernelspec": {
   "display_name": "Python 3",
   "language": "python",
   "name": "python3"
  },
  "language_info": {
   "codemirror_mode": {
    "name": "ipython",
    "version": 3
   },
   "file_extension": ".py",
   "mimetype": "text/x-python",
   "name": "python",
   "nbconvert_exporter": "python",
   "pygments_lexer": "ipython3",
   "version": "3.8.8"
  }
 },
 "nbformat": 4,
 "nbformat_minor": 5
}
