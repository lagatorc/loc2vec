{
 "cells": [
  {
   "cell_type": "code",
   "execution_count": 1,
   "id": "roman-criticism",
   "metadata": {},
   "outputs": [],
   "source": [
    "import torch\n",
    "from torch.nn import Module\n",
    "from torch.utils.data import Dataset, DataLoader\n",
    "\n",
    "import pandas as pd\n",
    "import pickle\n",
    "import glob\n",
    "\n",
    "import matplotlib.pyplot as plt"
   ]
  },
  {
   "cell_type": "code",
   "execution_count": 15,
   "id": "revised-specification",
   "metadata": {},
   "outputs": [],
   "source": [
    "targets_fp = sorted(glob.glob(\"../data/loc2vec_train_pt_tensors/targets/*.pt\"))\n",
    "contexts_fp = sorted(glob.glob(\"../data/loc2vec_train_pt_tensors/contexts/*.pt\"))\n",
    "labels_fp = sorted(glob.glob(\"../data/loc2vec_train_pt_tensors/labels/*.pt\"))"
   ]
  },
  {
   "cell_type": "code",
   "execution_count": 19,
   "id": "fleet-dividend",
   "metadata": {},
   "outputs": [],
   "source": [
    "with open(\"../models/tokenizers/decode_token_to_h3.pickle\", \"rb\") as f:\n",
    "    decode_dict = pickle.load(f)"
   ]
  },
  {
   "cell_type": "code",
   "execution_count": 20,
   "id": "ambient-opinion",
   "metadata": {},
   "outputs": [],
   "source": [
    "vocab_size = len(decode_dict.keys())"
   ]
  },
  {
   "cell_type": "code",
   "execution_count": 21,
   "id": "younger-privilege",
   "metadata": {},
   "outputs": [
    {
     "name": "stdout",
     "output_type": "stream",
     "text": [
      "16178\n"
     ]
    }
   ],
   "source": [
    "print(vocab_size)"
   ]
  },
  {
   "cell_type": "code",
   "execution_count": 22,
   "id": "congressional-basket",
   "metadata": {},
   "outputs": [],
   "source": [
    "class Loc2VecDataset(Dataset):\n",
    "    def __init__(self, targets, contexts, labels):\n",
    "        super().__init__()\n",
    "        self.targets = targets\n",
    "        self.contexts = contexts\n",
    "        self.labels = labels\n",
    "    def __len__(self):\n",
    "        return len(self.labels)\n",
    "    def __getitem__(self, idx):\n",
    "        return self.targets[idx, :], self.contexts[idx, :], self.labels[idx, :]"
   ]
  },
  {
   "cell_type": "code",
   "execution_count": 23,
   "id": "split-shooting",
   "metadata": {},
   "outputs": [],
   "source": [
    "class Loc2Vec(Module):\n",
    "    def __init__(self, vocab_size, embedding_size):\n",
    "        super().__init__()\n",
    "        self.target_embed = torch.nn.Embedding(vocab_size, embedding_size)\n",
    "        self.context_embed = torch.nn.Embedding(vocab_size, embedding_size)\n",
    "    def forward(self, target, context):\n",
    "        target_embedding = self.target_embed(target)\n",
    "        context_embedding = self.context_embed(context)\n",
    "        dot_products = torch.bmm(target_embedding, context_embedding.view(context_embedding.shape[0], \n",
    "                                                                          context_embedding.shape[2], \n",
    "                                                                          context_embedding.shape[1]))\n",
    "        dot_products = dot_products.reshape((dot_products.shape[0], \n",
    "                                             dot_products.shape[2]))\n",
    "        return dot_products"
   ]
  },
  {
   "cell_type": "code",
   "execution_count": 24,
   "id": "induced-limit",
   "metadata": {},
   "outputs": [],
   "source": [
    "model = Loc2Vec(vocab_size, 100)\n",
    "\n",
    "loss_func = torch.nn.BCEWithLogitsLoss()\n",
    "optimizer = torch.optim.Adam(model.parameters(), lr=0.001)\n",
    "EPOCHS = 8"
   ]
  },
  {
   "cell_type": "code",
   "execution_count": 26,
   "id": "streaming-possession",
   "metadata": {},
   "outputs": [],
   "source": [
    "dataloaders = []\n",
    "for t, c, l in zip(targets_fp, contexts_fp, labels_fp):\n",
    "    t_tensor = torch.load(t)\n",
    "    c_tensor = torch.load(c)\n",
    "    l_tensor = torch.load(l)\n",
    "    train_dataset = Loc2VecDataset(t_tensor, c_tensor, l_tensor)\n",
    "    train_dataloader = DataLoader(train_dataset, batch_size=128)\n",
    "    dataloaders.append(train_dataloader)"
   ]
  },
  {
   "cell_type": "code",
   "execution_count": 27,
   "id": "architectural-jacksonville",
   "metadata": {},
   "outputs": [
    {
     "name": "stdout",
     "output_type": "stream",
     "text": [
      "0.6059867739677429\n",
      "0.04220600053668022\n",
      "0.010451837442815304\n",
      "0.002344119595363736\n",
      "0.0005208817892707884\n",
      "0.00016991578740999103\n",
      "7.971176819410175e-05\n",
      "4.153562258579768e-05\n",
      "2.1570602257270366e-05\n",
      "1.1943120625801384e-05\n"
     ]
    }
   ],
   "source": [
    "losses = []\n",
    "for epoch in range(EPOCHS):\n",
    "    batch_losses = []\n",
    "    for dataloader in dataloaders:\n",
    "        for target, context, label in dataloader:\n",
    "            pred = model(target, context)\n",
    "            loss = loss_func(pred, label.float())\n",
    "            batch_losses.append(loss)\n",
    "\n",
    "            #Set gradients to zero\n",
    "            optimizer.zero_grad()\n",
    "            #Compute gradients\n",
    "            loss.backward()\n",
    "            #Update parameters with gradients and LR\n",
    "            optimizer.step()\n",
    "\n",
    "    batch_loss = sum(batch_losses) / len(batch_losses)\n",
    "    batch_loss = batch_loss.detach().item()\n",
    "    losses.append(batch_loss)\n",
    "    if epoch % 2 == 0:\n",
    "        print(batch_loss)"
   ]
  },
  {
   "cell_type": "code",
   "execution_count": 28,
   "id": "local-information",
   "metadata": {},
   "outputs": [
    {
     "data": {
      "text/plain": [
       "[<matplotlib.lines.Line2D at 0x7f63e03e50a0>]"
      ]
     },
     "execution_count": 28,
     "metadata": {},
     "output_type": "execute_result"
    },
    {
     "data": {
      "image/png": "[encoded data removed]",
      "text/plain": [
       "<Figure size 432x288 with 1 Axes>"
      ]
     },
     "metadata": {
      "needs_background": "light"
     },
     "output_type": "display_data"
    }
   ],
   "source": [
    "plt.plot(losses)"
   ]
  },
  {
   "cell_type": "code",
   "execution_count": 29,
   "id": "sound-brooklyn",
   "metadata": {},
   "outputs": [],
   "source": [
    "torch.save(model.state_dict(), \"../models/embeddings/loc2vec_100k_9_28\")"
   ]
  },
  {
   "cell_type": "code",
   "execution_count": 20,
   "id": "shared-guyana",
   "metadata": {},
   "outputs": [
    {
     "name": "stdout",
     "output_type": "stream",
     "text": [
      "Loc2Vec(\n",
      "  (target_embed): Embedding(3685, 100)\n",
      "  (context_embed): Embedding(3685, 100)\n",
      ")\n"
     ]
    }
   ],
   "source": [
    "print(model)"
   ]
  },
  {
   "cell_type": "code",
   "execution_count": 21,
   "id": "ordinary-scheduling",
   "metadata": {},
   "outputs": [],
   "source": [
    "layers=[]\n",
    "for layer in model.parameters():\n",
    "    layers.append(layer)"
   ]
  },
  {
   "cell_type": "code",
   "execution_count": 22,
   "id": "dutch-moses",
   "metadata": {},
   "outputs": [],
   "source": [
    "target_embedding = layers[0]\n",
    "context_embedding = layers[1]"
   ]
  },
  {
   "cell_type": "code",
   "execution_count": null,
   "id": "derived-professor",
   "metadata": {},
   "outputs": [],
   "source": []
  }
 ],
 "metadata": {
  "kernelspec": {
   "display_name": "Python 3",
   "language": "python",
   "name": "python3"
  },
  "language_info": {
   "codemirror_mode": {
    "name": "ipython",
    "version": 3
   },
   "file_extension": ".py",
   "mimetype": "text/x-python",
   "name": "python",
   "nbconvert_exporter": "python",
   "pygments_lexer": "ipython3",
   "version": "3.8.8"
  }
 },
 "nbformat": 4,
 "nbformat_minor": 5
}
