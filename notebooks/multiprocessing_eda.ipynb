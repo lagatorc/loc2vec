{
 "cells": [
  {
   "cell_type": "code",
   "execution_count": 17,
   "id": "supreme-yahoo",
   "metadata": {},
   "outputs": [],
   "source": [
    "import multiprocessing as mp\n",
    "import time\n",
    "import numpy as np"
   ]
  },
  {
   "cell_type": "code",
   "execution_count": 18,
   "id": "little-insertion",
   "metadata": {},
   "outputs": [],
   "source": [
    "def cube2(x ,y):\n",
    "    return x**3, y"
   ]
  },
  {
   "cell_type": "code",
   "execution_count": 19,
   "id": "acceptable-optimum",
   "metadata": {},
   "outputs": [],
   "source": [
    "num = 1000000"
   ]
  },
  {
   "cell_type": "code",
   "execution_count": 27,
   "id": "bulgarian-howard",
   "metadata": {},
   "outputs": [
    {
     "name": "stdout",
     "output_type": "stream",
     "text": [
      "0.1390974521636963\n"
     ]
    }
   ],
   "source": [
    "start = time.time()\n",
    "pool = mp.Pool(processes=4)\n",
    "result = pool.map_async(cube2, zip(range(num), range(num)))\n",
    "print(time.time() - start)"
   ]
  },
  {
   "cell_type": "code",
   "execution_count": 28,
   "id": "vertical-account",
   "metadata": {},
   "outputs": [
    {
     "name": "stdout",
     "output_type": "stream",
     "text": [
      "0.5780541896820068\n"
     ]
    }
   ],
   "source": [
    "start = time.time()\n",
    "pool = mp.Pool(processes=4)\n",
    "result = pool.starmap(cube2, zip(range(num), range(num)))\n",
    "print(time.time() - start)"
   ]
  },
  {
   "cell_type": "code",
   "execution_count": 29,
   "id": "artificial-automation",
   "metadata": {},
   "outputs": [
    {
     "name": "stdout",
     "output_type": "stream",
     "text": [
      "0.18947076797485352\n"
     ]
    }
   ],
   "source": [
    "start = time.time()\n",
    "pool = mp.Pool(processes=4)\n",
    "result = pool.starmap_async(cube2, zip(range(num), range(num)))\n",
    "print(time.time() - start)"
   ]
  },
  {
   "cell_type": "code",
   "execution_count": 30,
   "id": "dedicated-lease",
   "metadata": {},
   "outputs": [
    {
     "name": "stdout",
     "output_type": "stream",
     "text": [
      "0.4305994510650635\n"
     ]
    }
   ],
   "source": [
    "start = time.time()\n",
    "result = []\n",
    "for x in range(num):\n",
    "    result.append(cube2(x, x))\n",
    "print(time.time() - start)"
   ]
  },
  {
   "cell_type": "code",
   "execution_count": null,
   "id": "endless-intermediate",
   "metadata": {},
   "outputs": [],
   "source": []
  }
 ],
 "metadata": {
  "kernelspec": {
   "display_name": "Python 3",
   "language": "python",
   "name": "python3"
  },
  "language_info": {
   "codemirror_mode": {
    "name": "ipython",
    "version": 3
   },
   "file_extension": ".py",
   "mimetype": "text/x-python",
   "name": "python",
   "nbconvert_exporter": "python",
   "pygments_lexer": "ipython3",
   "version": "3.8.8"
  }
 },
 "nbformat": 4,
 "nbformat_minor": 5
}
